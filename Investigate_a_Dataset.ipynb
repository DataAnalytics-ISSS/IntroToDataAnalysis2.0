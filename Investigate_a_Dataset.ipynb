{
 "cells": [
  {
   "cell_type": "markdown",
   "metadata": {},
   "source": [
    "# Project: Investigate a Dataset - FBI Gun Data\n",
    "\n",
    "## Table of Contents\n",
    "<ul>\n",
    "<li><a href=\"#intro\">Introduction</a></li>\n",
    "<li><a href=\"#wrangling\">Data Wrangling</a></li>\n",
    "<li><a href=\"#eda\">Exploratory Data Analysis</a></li>\n",
    "<li><a href=\"#conclusions\">Conclusions</a></li>\n",
    "</ul>"
   ]
  },
  {
   "cell_type": "markdown",
   "metadata": {},
   "source": [
    "<a id='intro'></a>\n",
    "## Introduction\n",
    "\n",
    "### Dataset Description \n",
    "The data set that is being reviewed is the FBI Gun Data collected from two files: gun_data.xlsx and US_Census_Data.csv. The file **gun_data.xlsx** is from the NICS database supplied by the FBI and the **US_Census_Data.csv** file is provided from census.gov.\n",
    "\n",
    "The **gun_data.xlsx** has the following column names that contain the number of firearm checks by month, state, and type:\n",
    "- month\t\n",
    "- state\t\n",
    "- permit\t\n",
    "- permit_recheck\t\n",
    "- handgun\tlong_gun\t\n",
    "- other\t\n",
    "- multiple\t\n",
    "- admin\t\n",
    "- prepawn_handgun\t\n",
    "- prepawn_long_gun\t\n",
    "- prepawn_other\t\n",
    "- redemption_handgun\t\n",
    "- redemption_long_gun\t\n",
    "- redemption_other\t\n",
    "- returned_handgun\t\n",
    "- returned_long_gun\t\n",
    "- returned_other\t\n",
    "- rentals_handgun\t\n",
    "- rentals_long_gun\t\n",
    "- private_sale_handgun\t\n",
    "- private_sale_long_gun\t\n",
    "- private_sale_other\t\n",
    "- return_to_seller_handgun\t\n",
    "- return_to_seller_long_gun\t\n",
    "- return_to_seller_other\t\n",
    "- totals\n",
    "\n",
    "\n",
    "The **US_Census_Data.csv** has the following column names containing several variables at the state level:\n",
    "- Fact\t\n",
    "- Fact Note\t\n",
    "- Alabama\t\n",
    "- Alaska\t\n",
    "- Arizona\t\n",
    "- Arkansas\t\n",
    "- California\t\n",
    "- Colorado\t\n",
    "- Connecticut\t\n",
    "- Delaware\t\n",
    "- Florida\t\n",
    "- Georgia\t\n",
    "- Hawaii\t\n",
    "- Idaho\t\n",
    "- Illinois\t\n",
    "- Indiana\t\n",
    "- Iowa\t\n",
    "- Kansas\t\n",
    "- Kentucky\t\n",
    "- Louisiana\t\n",
    "- Maine\t\n",
    "- Maryland\t\n",
    "- Massachusetts\t\n",
    "- Michigan\t\n",
    "- Minnesota\t\n",
    "- Mississippi\t\n",
    "- Missouri\t\n",
    "- Montana\t\n",
    "- Nebraska\t\n",
    "- Nevada\t\n",
    "- New Hampshire\t\n",
    "- New Jersey\t\n",
    "- New Mexico\t\n",
    "- New York\t\n",
    "- North Carolina\t\n",
    "- North Dakota\t\n",
    "- Ohio\t\n",
    "- Oklahoma\t\n",
    "- Oregon\t\n",
    "- Pennsylvania\t\n",
    "- Rhode Island\t\n",
    "- South Carolina\t\n",
    "- South Dakota\t\n",
    "- Tennessee\t\n",
    "- Texas\t\n",
    "- Utah\t\n",
    "- Vermont\t\n",
    "- Virginia\t\n",
    "- Washington\t\n",
    "- West Virginia\t\n",
    "- Wisconsin\t\n",
    "- Wyoming\n",
    "\n",
    "\n",
    "### Question(s) for Analysis\n",
    "The questions I will be posing for analysis would be the following:\n",
    " - Is there a potential relationship between race and the frequency of gun purchase checks?\n",
    " - Is there a seasonal trend in gun purchase checks across different states?"
   ]
  },
  {
   "cell_type": "code",
   "execution_count": 1,
   "metadata": {},
   "outputs": [],
   "source": [
    "#imports\n",
    "import pandas as pd\n",
    "import numpy as np\n",
    "import matplotlib.pyplot as plt\n",
    "import seaborn as sns\n",
    "\n",
    "%matplotlib inline"
   ]
  },
  {
   "cell_type": "code",
   "execution_count": 2,
   "metadata": {},
   "outputs": [],
   "source": [
    "# Upgrade pandas to use dataframe.explode() function. \n",
    "# !pip install --upgrade pandas==0.25.0"
   ]
  },
  {
   "cell_type": "markdown",
   "metadata": {},
   "source": [
    "<a id='wrangling'></a>\n",
    "## Data Wrangling"
   ]
  },
  {
   "cell_type": "code",
   "execution_count": 3,
   "metadata": {
    "scrolled": true
   },
   "outputs": [
    {
     "data": {
      "text/html": [
       "<div>\n",
       "<style scoped>\n",
       "    .dataframe tbody tr th:only-of-type {\n",
       "        vertical-align: middle;\n",
       "    }\n",
       "\n",
       "    .dataframe tbody tr th {\n",
       "        vertical-align: top;\n",
       "    }\n",
       "\n",
       "    .dataframe thead th {\n",
       "        text-align: right;\n",
       "    }\n",
       "</style>\n",
       "<table border=\"1\" class=\"dataframe\">\n",
       "  <thead>\n",
       "    <tr style=\"text-align: right;\">\n",
       "      <th></th>\n",
       "      <th>month</th>\n",
       "      <th>state</th>\n",
       "      <th>permit</th>\n",
       "      <th>permit_recheck</th>\n",
       "      <th>handgun</th>\n",
       "      <th>long_gun</th>\n",
       "      <th>other</th>\n",
       "      <th>multiple</th>\n",
       "      <th>admin</th>\n",
       "      <th>prepawn_handgun</th>\n",
       "      <th>...</th>\n",
       "      <th>returned_other</th>\n",
       "      <th>rentals_handgun</th>\n",
       "      <th>rentals_long_gun</th>\n",
       "      <th>private_sale_handgun</th>\n",
       "      <th>private_sale_long_gun</th>\n",
       "      <th>private_sale_other</th>\n",
       "      <th>return_to_seller_handgun</th>\n",
       "      <th>return_to_seller_long_gun</th>\n",
       "      <th>return_to_seller_other</th>\n",
       "      <th>totals</th>\n",
       "    </tr>\n",
       "  </thead>\n",
       "  <tbody>\n",
       "    <tr>\n",
       "      <th>0</th>\n",
       "      <td>2017-09</td>\n",
       "      <td>Alabama</td>\n",
       "      <td>16717.0</td>\n",
       "      <td>0.0</td>\n",
       "      <td>5734.0</td>\n",
       "      <td>6320.0</td>\n",
       "      <td>221.0</td>\n",
       "      <td>317</td>\n",
       "      <td>0.0</td>\n",
       "      <td>15.0</td>\n",
       "      <td>...</td>\n",
       "      <td>0.0</td>\n",
       "      <td>0.0</td>\n",
       "      <td>0.0</td>\n",
       "      <td>9.0</td>\n",
       "      <td>16.0</td>\n",
       "      <td>3.0</td>\n",
       "      <td>0.0</td>\n",
       "      <td>0.0</td>\n",
       "      <td>3.0</td>\n",
       "      <td>32019</td>\n",
       "    </tr>\n",
       "    <tr>\n",
       "      <th>1</th>\n",
       "      <td>2017-09</td>\n",
       "      <td>Alaska</td>\n",
       "      <td>209.0</td>\n",
       "      <td>2.0</td>\n",
       "      <td>2320.0</td>\n",
       "      <td>2930.0</td>\n",
       "      <td>219.0</td>\n",
       "      <td>160</td>\n",
       "      <td>0.0</td>\n",
       "      <td>5.0</td>\n",
       "      <td>...</td>\n",
       "      <td>0.0</td>\n",
       "      <td>0.0</td>\n",
       "      <td>0.0</td>\n",
       "      <td>17.0</td>\n",
       "      <td>24.0</td>\n",
       "      <td>1.0</td>\n",
       "      <td>0.0</td>\n",
       "      <td>0.0</td>\n",
       "      <td>0.0</td>\n",
       "      <td>6303</td>\n",
       "    </tr>\n",
       "    <tr>\n",
       "      <th>2</th>\n",
       "      <td>2017-09</td>\n",
       "      <td>Arizona</td>\n",
       "      <td>5069.0</td>\n",
       "      <td>382.0</td>\n",
       "      <td>11063.0</td>\n",
       "      <td>7946.0</td>\n",
       "      <td>920.0</td>\n",
       "      <td>631</td>\n",
       "      <td>0.0</td>\n",
       "      <td>13.0</td>\n",
       "      <td>...</td>\n",
       "      <td>0.0</td>\n",
       "      <td>0.0</td>\n",
       "      <td>0.0</td>\n",
       "      <td>38.0</td>\n",
       "      <td>12.0</td>\n",
       "      <td>2.0</td>\n",
       "      <td>0.0</td>\n",
       "      <td>0.0</td>\n",
       "      <td>0.0</td>\n",
       "      <td>28394</td>\n",
       "    </tr>\n",
       "    <tr>\n",
       "      <th>3</th>\n",
       "      <td>2017-09</td>\n",
       "      <td>Arkansas</td>\n",
       "      <td>2935.0</td>\n",
       "      <td>632.0</td>\n",
       "      <td>4347.0</td>\n",
       "      <td>6063.0</td>\n",
       "      <td>165.0</td>\n",
       "      <td>366</td>\n",
       "      <td>51.0</td>\n",
       "      <td>12.0</td>\n",
       "      <td>...</td>\n",
       "      <td>0.0</td>\n",
       "      <td>0.0</td>\n",
       "      <td>0.0</td>\n",
       "      <td>13.0</td>\n",
       "      <td>23.0</td>\n",
       "      <td>0.0</td>\n",
       "      <td>0.0</td>\n",
       "      <td>2.0</td>\n",
       "      <td>1.0</td>\n",
       "      <td>17747</td>\n",
       "    </tr>\n",
       "    <tr>\n",
       "      <th>4</th>\n",
       "      <td>2017-09</td>\n",
       "      <td>California</td>\n",
       "      <td>57839.0</td>\n",
       "      <td>0.0</td>\n",
       "      <td>37165.0</td>\n",
       "      <td>24581.0</td>\n",
       "      <td>2984.0</td>\n",
       "      <td>0</td>\n",
       "      <td>0.0</td>\n",
       "      <td>0.0</td>\n",
       "      <td>...</td>\n",
       "      <td>0.0</td>\n",
       "      <td>0.0</td>\n",
       "      <td>0.0</td>\n",
       "      <td>0.0</td>\n",
       "      <td>0.0</td>\n",
       "      <td>0.0</td>\n",
       "      <td>0.0</td>\n",
       "      <td>0.0</td>\n",
       "      <td>0.0</td>\n",
       "      <td>123506</td>\n",
       "    </tr>\n",
       "  </tbody>\n",
       "</table>\n",
       "<p>5 rows × 27 columns</p>\n",
       "</div>"
      ],
      "text/plain": [
       "     month       state   permit  permit_recheck  handgun  long_gun   other  \\\n",
       "0  2017-09     Alabama  16717.0             0.0   5734.0    6320.0   221.0   \n",
       "1  2017-09      Alaska    209.0             2.0   2320.0    2930.0   219.0   \n",
       "2  2017-09     Arizona   5069.0           382.0  11063.0    7946.0   920.0   \n",
       "3  2017-09    Arkansas   2935.0           632.0   4347.0    6063.0   165.0   \n",
       "4  2017-09  California  57839.0             0.0  37165.0   24581.0  2984.0   \n",
       "\n",
       "   multiple  admin  prepawn_handgun  ...  returned_other  rentals_handgun  \\\n",
       "0       317    0.0             15.0  ...             0.0              0.0   \n",
       "1       160    0.0              5.0  ...             0.0              0.0   \n",
       "2       631    0.0             13.0  ...             0.0              0.0   \n",
       "3       366   51.0             12.0  ...             0.0              0.0   \n",
       "4         0    0.0              0.0  ...             0.0              0.0   \n",
       "\n",
       "   rentals_long_gun  private_sale_handgun  private_sale_long_gun  \\\n",
       "0               0.0                   9.0                   16.0   \n",
       "1               0.0                  17.0                   24.0   \n",
       "2               0.0                  38.0                   12.0   \n",
       "3               0.0                  13.0                   23.0   \n",
       "4               0.0                   0.0                    0.0   \n",
       "\n",
       "   private_sale_other  return_to_seller_handgun  return_to_seller_long_gun  \\\n",
       "0                 3.0                       0.0                        0.0   \n",
       "1                 1.0                       0.0                        0.0   \n",
       "2                 2.0                       0.0                        0.0   \n",
       "3                 0.0                       0.0                        2.0   \n",
       "4                 0.0                       0.0                        0.0   \n",
       "\n",
       "   return_to_seller_other  totals  \n",
       "0                     3.0   32019  \n",
       "1                     0.0    6303  \n",
       "2                     0.0   28394  \n",
       "3                     1.0   17747  \n",
       "4                     0.0  123506  \n",
       "\n",
       "[5 rows x 27 columns]"
      ]
     },
     "execution_count": 3,
     "metadata": {},
     "output_type": "execute_result"
    }
   ],
   "source": [
    "#loading the data file gun_data.xlsx\n",
    "gun_data_file_path = 'Database_Ncis_and_Census_data/gun_data.xlsx'\n",
    "\n",
    "#loading the data file \n",
    "df_guns_raw = pd.read_excel(gun_data_file_path)\n",
    "\n",
    "#printing a few lines to test that the files loaded correctly\n",
    "df_guns_raw.head()\n",
    "#----------------------"
   ]
  },
  {
   "cell_type": "code",
   "execution_count": 4,
   "metadata": {},
   "outputs": [
    {
     "data": {
      "text/html": [
       "<div>\n",
       "<style scoped>\n",
       "    .dataframe tbody tr th:only-of-type {\n",
       "        vertical-align: middle;\n",
       "    }\n",
       "\n",
       "    .dataframe tbody tr th {\n",
       "        vertical-align: top;\n",
       "    }\n",
       "\n",
       "    .dataframe thead th {\n",
       "        text-align: right;\n",
       "    }\n",
       "</style>\n",
       "<table border=\"1\" class=\"dataframe\">\n",
       "  <thead>\n",
       "    <tr style=\"text-align: right;\">\n",
       "      <th></th>\n",
       "      <th>Fact</th>\n",
       "      <th>Fact Note</th>\n",
       "      <th>Alabama</th>\n",
       "      <th>Alaska</th>\n",
       "      <th>Arizona</th>\n",
       "      <th>Arkansas</th>\n",
       "      <th>California</th>\n",
       "      <th>Colorado</th>\n",
       "      <th>Connecticut</th>\n",
       "      <th>Delaware</th>\n",
       "      <th>...</th>\n",
       "      <th>South Dakota</th>\n",
       "      <th>Tennessee</th>\n",
       "      <th>Texas</th>\n",
       "      <th>Utah</th>\n",
       "      <th>Vermont</th>\n",
       "      <th>Virginia</th>\n",
       "      <th>Washington</th>\n",
       "      <th>West Virginia</th>\n",
       "      <th>Wisconsin</th>\n",
       "      <th>Wyoming</th>\n",
       "    </tr>\n",
       "  </thead>\n",
       "  <tbody>\n",
       "    <tr>\n",
       "      <th>0</th>\n",
       "      <td>Population estimates, July 1, 2016,  (V2016)</td>\n",
       "      <td>NaN</td>\n",
       "      <td>4,863,300</td>\n",
       "      <td>741,894</td>\n",
       "      <td>6,931,071</td>\n",
       "      <td>2,988,248</td>\n",
       "      <td>39,250,017</td>\n",
       "      <td>5,540,545</td>\n",
       "      <td>3,576,452</td>\n",
       "      <td>952,065</td>\n",
       "      <td>...</td>\n",
       "      <td>865454</td>\n",
       "      <td>6651194</td>\n",
       "      <td>27,862,596</td>\n",
       "      <td>3,051,217</td>\n",
       "      <td>624,594</td>\n",
       "      <td>8,411,808</td>\n",
       "      <td>7,288,000</td>\n",
       "      <td>1,831,102</td>\n",
       "      <td>5,778,708</td>\n",
       "      <td>585,501</td>\n",
       "    </tr>\n",
       "    <tr>\n",
       "      <th>1</th>\n",
       "      <td>Population estimates base, April 1, 2010,  (V2...</td>\n",
       "      <td>NaN</td>\n",
       "      <td>4,780,131</td>\n",
       "      <td>710,249</td>\n",
       "      <td>6,392,301</td>\n",
       "      <td>2,916,025</td>\n",
       "      <td>37,254,522</td>\n",
       "      <td>5,029,324</td>\n",
       "      <td>3,574,114</td>\n",
       "      <td>897,936</td>\n",
       "      <td>...</td>\n",
       "      <td>814195</td>\n",
       "      <td>6346298</td>\n",
       "      <td>25,146,100</td>\n",
       "      <td>2,763,888</td>\n",
       "      <td>625,741</td>\n",
       "      <td>8,001,041</td>\n",
       "      <td>6,724,545</td>\n",
       "      <td>1,853,011</td>\n",
       "      <td>5,687,289</td>\n",
       "      <td>563,767</td>\n",
       "    </tr>\n",
       "    <tr>\n",
       "      <th>2</th>\n",
       "      <td>Population, percent change - April 1, 2010 (es...</td>\n",
       "      <td>NaN</td>\n",
       "      <td>1.70%</td>\n",
       "      <td>4.50%</td>\n",
       "      <td>8.40%</td>\n",
       "      <td>2.50%</td>\n",
       "      <td>5.40%</td>\n",
       "      <td>10.20%</td>\n",
       "      <td>0.10%</td>\n",
       "      <td>6.00%</td>\n",
       "      <td>...</td>\n",
       "      <td>0.063</td>\n",
       "      <td>0.048</td>\n",
       "      <td>10.80%</td>\n",
       "      <td>10.40%</td>\n",
       "      <td>-0.20%</td>\n",
       "      <td>5.10%</td>\n",
       "      <td>8.40%</td>\n",
       "      <td>-1.20%</td>\n",
       "      <td>1.60%</td>\n",
       "      <td>3.90%</td>\n",
       "    </tr>\n",
       "    <tr>\n",
       "      <th>3</th>\n",
       "      <td>Population, Census, April 1, 2010</td>\n",
       "      <td>NaN</td>\n",
       "      <td>4,779,736</td>\n",
       "      <td>710,231</td>\n",
       "      <td>6,392,017</td>\n",
       "      <td>2,915,918</td>\n",
       "      <td>37,253,956</td>\n",
       "      <td>5,029,196</td>\n",
       "      <td>3,574,097</td>\n",
       "      <td>897,934</td>\n",
       "      <td>...</td>\n",
       "      <td>814180</td>\n",
       "      <td>6346105</td>\n",
       "      <td>25,145,561</td>\n",
       "      <td>2,763,885</td>\n",
       "      <td>625,741</td>\n",
       "      <td>8,001,024</td>\n",
       "      <td>6,724,540</td>\n",
       "      <td>1,852,994</td>\n",
       "      <td>5,686,986</td>\n",
       "      <td>563,626</td>\n",
       "    </tr>\n",
       "    <tr>\n",
       "      <th>4</th>\n",
       "      <td>Persons under 5 years, percent, July 1, 2016, ...</td>\n",
       "      <td>NaN</td>\n",
       "      <td>6.00%</td>\n",
       "      <td>7.30%</td>\n",
       "      <td>6.30%</td>\n",
       "      <td>6.40%</td>\n",
       "      <td>6.30%</td>\n",
       "      <td>6.10%</td>\n",
       "      <td>5.20%</td>\n",
       "      <td>5.80%</td>\n",
       "      <td>...</td>\n",
       "      <td>0.071</td>\n",
       "      <td>0.061</td>\n",
       "      <td>7.20%</td>\n",
       "      <td>8.30%</td>\n",
       "      <td>4.90%</td>\n",
       "      <td>6.10%</td>\n",
       "      <td>6.20%</td>\n",
       "      <td>5.50%</td>\n",
       "      <td>5.80%</td>\n",
       "      <td>6.50%</td>\n",
       "    </tr>\n",
       "  </tbody>\n",
       "</table>\n",
       "<p>5 rows × 52 columns</p>\n",
       "</div>"
      ],
      "text/plain": [
       "                                                Fact Fact Note    Alabama  \\\n",
       "0       Population estimates, July 1, 2016,  (V2016)       NaN  4,863,300   \n",
       "1  Population estimates base, April 1, 2010,  (V2...       NaN  4,780,131   \n",
       "2  Population, percent change - April 1, 2010 (es...       NaN      1.70%   \n",
       "3                  Population, Census, April 1, 2010       NaN  4,779,736   \n",
       "4  Persons under 5 years, percent, July 1, 2016, ...       NaN      6.00%   \n",
       "\n",
       "    Alaska    Arizona   Arkansas  California   Colorado Connecticut Delaware  \\\n",
       "0  741,894  6,931,071  2,988,248  39,250,017  5,540,545   3,576,452  952,065   \n",
       "1  710,249  6,392,301  2,916,025  37,254,522  5,029,324   3,574,114  897,936   \n",
       "2    4.50%      8.40%      2.50%       5.40%     10.20%       0.10%    6.00%   \n",
       "3  710,231  6,392,017  2,915,918  37,253,956  5,029,196   3,574,097  897,934   \n",
       "4    7.30%      6.30%      6.40%       6.30%      6.10%       5.20%    5.80%   \n",
       "\n",
       "   ... South Dakota Tennessee       Texas       Utah  Vermont   Virginia  \\\n",
       "0  ...       865454   6651194  27,862,596  3,051,217  624,594  8,411,808   \n",
       "1  ...       814195   6346298  25,146,100  2,763,888  625,741  8,001,041   \n",
       "2  ...        0.063     0.048      10.80%     10.40%   -0.20%      5.10%   \n",
       "3  ...       814180   6346105  25,145,561  2,763,885  625,741  8,001,024   \n",
       "4  ...        0.071     0.061       7.20%      8.30%    4.90%      6.10%   \n",
       "\n",
       "  Washington West Virginia  Wisconsin  Wyoming  \n",
       "0  7,288,000     1,831,102  5,778,708  585,501  \n",
       "1  6,724,545     1,853,011  5,687,289  563,767  \n",
       "2      8.40%        -1.20%      1.60%    3.90%  \n",
       "3  6,724,540     1,852,994  5,686,986  563,626  \n",
       "4      6.20%         5.50%      5.80%    6.50%  \n",
       "\n",
       "[5 rows x 52 columns]"
      ]
     },
     "execution_count": 4,
     "metadata": {},
     "output_type": "execute_result"
    }
   ],
   "source": [
    "#establishing the file path for the data file\n",
    "census_data_file_path = 'Database_Ncis_and_Census_data/US_Census_Data.csv'\n",
    "\n",
    "#loading the data file \n",
    "df_census_raw = pd.read_csv(census_data_file_path)\n",
    "\n",
    "#printing a few lines to test that the files loaded correctly\n",
    "df_census_raw.head()\n",
    "#---------------------------------------------------------------------"
   ]
  },
  {
   "cell_type": "markdown",
   "metadata": {},
   "source": [
    "### Duplicates Investigation\n",
    "The following code will perfom the investigation on if there are any duplicate records in the data files."
   ]
  },
  {
   "cell_type": "code",
   "execution_count": 5,
   "metadata": {},
   "outputs": [
    {
     "name": "stdout",
     "output_type": "stream",
     "text": [
      "Number of duplicate rows df_guns_raw: 0\n",
      "Number of duplicate rows in df_census_raw: 3\n"
     ]
    }
   ],
   "source": [
    "#checking for duplicate records in the data of df_guns_raw\n",
    "duplicate_count = df_guns_raw.duplicated().sum()\n",
    "print(f\"Number of duplicate rows df_guns_raw: {duplicate_count}\")\n",
    "\n",
    "#checking for duplicate records in the data\n",
    "duplicate_count = df_census_raw.duplicated().sum()\n",
    "print(f\"Number of duplicate rows in df_census_raw: {duplicate_count}\")\n",
    "#---------------------------------------------------------------------"
   ]
  },
  {
   "cell_type": "markdown",
   "metadata": {},
   "source": [
    "### File Information Investigation\n",
    "Investigating the files to see where areas may need to be cleaned up. After cleaning the files, another information investigation will occur to ensure this was performed correctly."
   ]
  },
  {
   "cell_type": "code",
   "execution_count": 6,
   "metadata": {},
   "outputs": [
    {
     "name": "stdout",
     "output_type": "stream",
     "text": [
      "<class 'pandas.core.frame.DataFrame'>\n",
      "RangeIndex: 12485 entries, 0 to 12484\n",
      "Data columns (total 27 columns):\n",
      "month                        12485 non-null object\n",
      "state                        12485 non-null object\n",
      "permit                       12461 non-null float64\n",
      "permit_recheck               1100 non-null float64\n",
      "handgun                      12465 non-null float64\n",
      "long_gun                     12466 non-null float64\n",
      "other                        5500 non-null float64\n",
      "multiple                     12485 non-null int64\n",
      "admin                        12462 non-null float64\n",
      "prepawn_handgun              10542 non-null float64\n",
      "prepawn_long_gun             10540 non-null float64\n",
      "prepawn_other                5115 non-null float64\n",
      "redemption_handgun           10545 non-null float64\n",
      "redemption_long_gun          10544 non-null float64\n",
      "redemption_other             5115 non-null float64\n",
      "returned_handgun             2200 non-null float64\n",
      "returned_long_gun            2145 non-null float64\n",
      "returned_other               1815 non-null float64\n",
      "rentals_handgun              990 non-null float64\n",
      "rentals_long_gun             825 non-null float64\n",
      "private_sale_handgun         2750 non-null float64\n",
      "private_sale_long_gun        2750 non-null float64\n",
      "private_sale_other           2750 non-null float64\n",
      "return_to_seller_handgun     2475 non-null float64\n",
      "return_to_seller_long_gun    2750 non-null float64\n",
      "return_to_seller_other       2255 non-null float64\n",
      "totals                       12485 non-null int64\n",
      "dtypes: float64(23), int64(2), object(2)\n",
      "memory usage: 2.6+ MB\n"
     ]
    }
   ],
   "source": [
    "#checking file information in the data of df_guns_raw\n",
    "df_guns_raw.info()"
   ]
  },
  {
   "cell_type": "code",
   "execution_count": 7,
   "metadata": {},
   "outputs": [
    {
     "name": "stdout",
     "output_type": "stream",
     "text": [
      "<class 'pandas.core.frame.DataFrame'>\n",
      "RangeIndex: 85 entries, 0 to 84\n",
      "Data columns (total 52 columns):\n",
      "Fact              80 non-null object\n",
      "Fact Note         28 non-null object\n",
      "Alabama           65 non-null object\n",
      "Alaska            65 non-null object\n",
      "Arizona           65 non-null object\n",
      "Arkansas          65 non-null object\n",
      "California        65 non-null object\n",
      "Colorado          65 non-null object\n",
      "Connecticut       65 non-null object\n",
      "Delaware          65 non-null object\n",
      "Florida           65 non-null object\n",
      "Georgia           65 non-null object\n",
      "Hawaii            65 non-null object\n",
      "Idaho             65 non-null object\n",
      "Illinois          65 non-null object\n",
      "Indiana           65 non-null object\n",
      "Iowa              65 non-null object\n",
      "Kansas            65 non-null object\n",
      "Kentucky          65 non-null object\n",
      "Louisiana         65 non-null object\n",
      "Maine             65 non-null object\n",
      "Maryland          65 non-null object\n",
      "Massachusetts     65 non-null object\n",
      "Michigan          65 non-null object\n",
      "Minnesota         65 non-null object\n",
      "Mississippi       65 non-null object\n",
      "Missouri          65 non-null object\n",
      "Montana           65 non-null object\n",
      "Nebraska          65 non-null object\n",
      "Nevada            65 non-null object\n",
      "New Hampshire     65 non-null object\n",
      "New Jersey        65 non-null object\n",
      "New Mexico        65 non-null object\n",
      "New York          65 non-null object\n",
      "North Carolina    65 non-null object\n",
      "North Dakota      65 non-null object\n",
      "Ohio              65 non-null object\n",
      "Oklahoma          65 non-null object\n",
      "Oregon            65 non-null object\n",
      "Pennsylvania      65 non-null object\n",
      "Rhode Island      65 non-null object\n",
      "South Carolina    65 non-null object\n",
      "South Dakota      65 non-null object\n",
      "Tennessee         65 non-null object\n",
      "Texas             65 non-null object\n",
      "Utah              65 non-null object\n",
      "Vermont           65 non-null object\n",
      "Virginia          65 non-null object\n",
      "Washington        65 non-null object\n",
      "West Virginia     65 non-null object\n",
      "Wisconsin         65 non-null object\n",
      "Wyoming           65 non-null object\n",
      "dtypes: object(52)\n",
      "memory usage: 34.7+ KB\n"
     ]
    }
   ],
   "source": [
    "#checking file information in the data df_census_raw\n",
    "df_census_raw.info()"
   ]
  },
  {
   "cell_type": "markdown",
   "metadata": {},
   "source": [
    "### Data Cleaning"
   ]
  },
  {
   "cell_type": "markdown",
   "metadata": {},
   "source": [
    "### Data Cleaning df_guns_raw\n",
    ">The data file df_guns_raw will now be cleaned up. Removal of unnecessary columns and rows will occur. Rows containing entities that do not belong to the list of 50 states of the United States will be removed to help focus on a state-by-state comparison due to limitations of the US Census Data."
   ]
  },
  {
   "cell_type": "code",
   "execution_count": 8,
   "metadata": {},
   "outputs": [
    {
     "data": {
      "text/html": [
       "<div>\n",
       "<style scoped>\n",
       "    .dataframe tbody tr th:only-of-type {\n",
       "        vertical-align: middle;\n",
       "    }\n",
       "\n",
       "    .dataframe tbody tr th {\n",
       "        vertical-align: top;\n",
       "    }\n",
       "\n",
       "    .dataframe thead th {\n",
       "        text-align: right;\n",
       "    }\n",
       "</style>\n",
       "<table border=\"1\" class=\"dataframe\">\n",
       "  <thead>\n",
       "    <tr style=\"text-align: right;\">\n",
       "      <th></th>\n",
       "      <th>month</th>\n",
       "      <th>state</th>\n",
       "      <th>permit</th>\n",
       "      <th>handgun</th>\n",
       "      <th>long_gun</th>\n",
       "    </tr>\n",
       "  </thead>\n",
       "  <tbody>\n",
       "    <tr>\n",
       "      <th>0</th>\n",
       "      <td>2017-09</td>\n",
       "      <td>Alabama</td>\n",
       "      <td>16717.0</td>\n",
       "      <td>5734.0</td>\n",
       "      <td>6320.0</td>\n",
       "    </tr>\n",
       "    <tr>\n",
       "      <th>1</th>\n",
       "      <td>2017-09</td>\n",
       "      <td>Alaska</td>\n",
       "      <td>209.0</td>\n",
       "      <td>2320.0</td>\n",
       "      <td>2930.0</td>\n",
       "    </tr>\n",
       "    <tr>\n",
       "      <th>2</th>\n",
       "      <td>2017-09</td>\n",
       "      <td>Arizona</td>\n",
       "      <td>5069.0</td>\n",
       "      <td>11063.0</td>\n",
       "      <td>7946.0</td>\n",
       "    </tr>\n",
       "    <tr>\n",
       "      <th>3</th>\n",
       "      <td>2017-09</td>\n",
       "      <td>Arkansas</td>\n",
       "      <td>2935.0</td>\n",
       "      <td>4347.0</td>\n",
       "      <td>6063.0</td>\n",
       "    </tr>\n",
       "    <tr>\n",
       "      <th>4</th>\n",
       "      <td>2017-09</td>\n",
       "      <td>California</td>\n",
       "      <td>57839.0</td>\n",
       "      <td>37165.0</td>\n",
       "      <td>24581.0</td>\n",
       "    </tr>\n",
       "  </tbody>\n",
       "</table>\n",
       "</div>"
      ],
      "text/plain": [
       "     month       state   permit  handgun  long_gun\n",
       "0  2017-09     Alabama  16717.0   5734.0    6320.0\n",
       "1  2017-09      Alaska    209.0   2320.0    2930.0\n",
       "2  2017-09     Arizona   5069.0  11063.0    7946.0\n",
       "3  2017-09    Arkansas   2935.0   4347.0    6063.0\n",
       "4  2017-09  California  57839.0  37165.0   24581.0"
      ]
     },
     "execution_count": 8,
     "metadata": {},
     "output_type": "execute_result"
    }
   ],
   "source": [
    "### DATA CLEANING - df_guns_raw\n",
    "#step 1: removing unecessary columns for data analysis\n",
    "#---------------------------------------------------------------------\n",
    "#list of columns to remove\n",
    "columns_to_remove = [\n",
    "    'permit_recheck', 'multiple', 'admin', 'prepawn_handgun', \n",
    "    'prepawn_long_gun', 'prepawn_other', 'redemption_handgun', \n",
    "    'redemption_long_gun', 'redemption_other', 'returned_handgun', \n",
    "    'returned_long_gun', 'returned_other', 'rentals_handgun', \n",
    "    'rentals_long_gun', 'private_sale_handgun', 'private_sale_long_gun', \n",
    "    'private_sale_other', 'return_to_seller_handgun', \n",
    "    'return_to_seller_long_gun', 'return_to_seller_other', 'totals', 'other'\n",
    "]\n",
    "\n",
    "#removal of the unecessary columns from the file\n",
    "df_guns_raw.drop(columns=columns_to_remove, inplace=True)\n",
    "\n",
    "#display the first few rows to verify that the columns were removed from the file\n",
    "df_guns_raw.head()\n",
    "#---------------------------------------------------------------------"
   ]
  },
  {
   "cell_type": "markdown",
   "metadata": {},
   "source": [
    "> All columns that are not relevant to the analysis will be removed."
   ]
  },
  {
   "cell_type": "code",
   "execution_count": 9,
   "metadata": {},
   "outputs": [],
   "source": [
    "#step 2:remove rows with specific state identities\n",
    "#---------------------------------------------------------------------\n",
    "#list of states to remove\n",
    "states_to_remove = ['Guam', 'Mariana Islands', 'Puerto Rico', 'Virgin Islands', 'District of Columbia']\n",
    "\n",
    "#remove the rows with the specified state identities from the file\n",
    "df_guns_raw = df_guns_raw[~df_guns_raw['state'].isin(states_to_remove)]\n",
    "#---------------------------------------------------------------------"
   ]
  },
  {
   "cell_type": "markdown",
   "metadata": {},
   "source": [
    "> The focus was narrowed to the 50 U.S. states to facilitate easier tracking and display. This decision was also driven by the research questions, which specifically target locations with statehood."
   ]
  },
  {
   "cell_type": "code",
   "execution_count": 10,
   "metadata": {},
   "outputs": [
    {
     "name": "stdout",
     "output_type": "stream",
     "text": [
      "Missing values before imputation: month       0\n",
      "state       0\n",
      "permit      2\n",
      "handgun     0\n",
      "long_gun    0\n",
      "dtype: int64\n"
     ]
    }
   ],
   "source": [
    "#step 3: handling any missing values\n",
    "#---------------------------------------------------------------------\n",
    "#check for missing values\n",
    "missing_values = df_guns_raw.isnull().sum()\n",
    "print(\"Missing values before imputation:\", missing_values)\n",
    "\n",
    "#input missing values in the 'permit' column with the median\n",
    "df_guns_raw['permit'].fillna(df_guns_raw['permit'].median(), inplace=True)\n",
    "#---------------------------------------------------------------------"
   ]
  },
  {
   "cell_type": "markdown",
   "metadata": {},
   "source": [
    "> Missing values were identified, and due to their small quantity, the decision was made to fill in the blanks using the median value from the respective column."
   ]
  },
  {
   "cell_type": "code",
   "execution_count": 11,
   "metadata": {},
   "outputs": [],
   "source": [
    "#step 4: create the total checks row\n",
    "#---------------------------------------------------------------------\n",
    "#create a new row called 'total_checks' that reflects the total checks on handguns, long guns and permits\n",
    "df_guns_raw['total_checks'] = df_guns_raw['handgun'] + df_guns_raw['long_gun'] + df_guns_raw['permit']\n",
    "#---------------------------------------------------------------------"
   ]
  },
  {
   "cell_type": "markdown",
   "metadata": {},
   "source": [
    "> A \"total_checks\" column was created to address one of the research questions."
   ]
  },
  {
   "cell_type": "code",
   "execution_count": 12,
   "metadata": {},
   "outputs": [],
   "source": [
    "#step 5: Convert the 'month' Column to Datetime Format and Split into 'year' and 'month'\n",
    "#---------------------------------------------------------------------\n",
    "df_guns_raw['month'] = pd.to_datetime(df_guns_raw['month'], errors='coerce')\n",
    "df_guns_raw['year'] = df_guns_raw['month'].dt.year\n",
    "df_guns_raw['month'] = df_guns_raw['month'].dt.month\n",
    "#---------------------------------------------------------------------"
   ]
  },
  {
   "cell_type": "markdown",
   "metadata": {},
   "source": [
    "> The 'month' column was converted to enable correct splitting, allowing the data to be used for creating the \"seasons\" column and for filtering the data by year in a subsequent step."
   ]
  },
  {
   "cell_type": "code",
   "execution_count": 13,
   "metadata": {},
   "outputs": [],
   "source": [
    "#step 6: create the seasons column using a mapping\n",
    "#---------------------------------------------------------------------\n",
    "#define a mapping of months to seasons\n",
    "season_mapping = {\n",
    "    1: 'winter', 2: 'winter', 3: 'spring',\n",
    "    4: 'spring', 5: 'spring', 6: 'summer',\n",
    "    7: 'summer', 8: 'summer', 9: 'fall',\n",
    "    10: 'fall', 11: 'fall', 12: 'winter'\n",
    "}\n",
    "\n",
    "#map the 'month' column to the 'season' column using the mapping\n",
    "df_guns_raw['season'] = df_guns_raw['month'].map(season_mapping)\n",
    "#---------------------------------------------------------------------"
   ]
  },
  {
   "cell_type": "markdown",
   "metadata": {},
   "source": [
    "> A \"seasons\" column was created to address one of the research questions."
   ]
  },
  {
   "cell_type": "code",
   "execution_count": 14,
   "metadata": {},
   "outputs": [
    {
     "data": {
      "text/html": [
       "<div>\n",
       "<style scoped>\n",
       "    .dataframe tbody tr th:only-of-type {\n",
       "        vertical-align: middle;\n",
       "    }\n",
       "\n",
       "    .dataframe tbody tr th {\n",
       "        vertical-align: top;\n",
       "    }\n",
       "\n",
       "    .dataframe thead th {\n",
       "        text-align: right;\n",
       "    }\n",
       "</style>\n",
       "<table border=\"1\" class=\"dataframe\">\n",
       "  <thead>\n",
       "    <tr style=\"text-align: right;\">\n",
       "      <th></th>\n",
       "      <th>year</th>\n",
       "      <th>month</th>\n",
       "      <th>season</th>\n",
       "      <th>state</th>\n",
       "      <th>permit</th>\n",
       "      <th>handgun</th>\n",
       "      <th>long_gun</th>\n",
       "      <th>total_checks</th>\n",
       "    </tr>\n",
       "  </thead>\n",
       "  <tbody>\n",
       "    <tr>\n",
       "      <th>0</th>\n",
       "      <td>2017</td>\n",
       "      <td>9</td>\n",
       "      <td>fall</td>\n",
       "      <td>Alabama</td>\n",
       "      <td>16717.0</td>\n",
       "      <td>5734.0</td>\n",
       "      <td>6320.0</td>\n",
       "      <td>28771.0</td>\n",
       "    </tr>\n",
       "    <tr>\n",
       "      <th>1</th>\n",
       "      <td>2017</td>\n",
       "      <td>9</td>\n",
       "      <td>fall</td>\n",
       "      <td>Alaska</td>\n",
       "      <td>209.0</td>\n",
       "      <td>2320.0</td>\n",
       "      <td>2930.0</td>\n",
       "      <td>5459.0</td>\n",
       "    </tr>\n",
       "    <tr>\n",
       "      <th>2</th>\n",
       "      <td>2017</td>\n",
       "      <td>9</td>\n",
       "      <td>fall</td>\n",
       "      <td>Arizona</td>\n",
       "      <td>5069.0</td>\n",
       "      <td>11063.0</td>\n",
       "      <td>7946.0</td>\n",
       "      <td>24078.0</td>\n",
       "    </tr>\n",
       "    <tr>\n",
       "      <th>3</th>\n",
       "      <td>2017</td>\n",
       "      <td>9</td>\n",
       "      <td>fall</td>\n",
       "      <td>Arkansas</td>\n",
       "      <td>2935.0</td>\n",
       "      <td>4347.0</td>\n",
       "      <td>6063.0</td>\n",
       "      <td>13345.0</td>\n",
       "    </tr>\n",
       "    <tr>\n",
       "      <th>4</th>\n",
       "      <td>2017</td>\n",
       "      <td>9</td>\n",
       "      <td>fall</td>\n",
       "      <td>California</td>\n",
       "      <td>57839.0</td>\n",
       "      <td>37165.0</td>\n",
       "      <td>24581.0</td>\n",
       "      <td>119585.0</td>\n",
       "    </tr>\n",
       "  </tbody>\n",
       "</table>\n",
       "</div>"
      ],
      "text/plain": [
       "   year  month season       state   permit  handgun  long_gun  total_checks\n",
       "0  2017      9   fall     Alabama  16717.0   5734.0    6320.0       28771.0\n",
       "1  2017      9   fall      Alaska    209.0   2320.0    2930.0        5459.0\n",
       "2  2017      9   fall     Arizona   5069.0  11063.0    7946.0       24078.0\n",
       "3  2017      9   fall    Arkansas   2935.0   4347.0    6063.0       13345.0\n",
       "4  2017      9   fall  California  57839.0  37165.0   24581.0      119585.0"
      ]
     },
     "execution_count": 14,
     "metadata": {},
     "output_type": "execute_result"
    }
   ],
   "source": [
    "#step 7: reordering the columns to flow better for readability\n",
    "#---------------------------------------------------------------------\n",
    "reordering = ['year', 'month', 'season', 'state', 'permit', 'handgun', 'long_gun', 'total_checks']\n",
    "df_guns_raw = df_guns_raw[reordering]\n",
    "\n",
    "df_guns_raw.head()\n",
    "#---------------------------------------------------------------------"
   ]
  },
  {
   "cell_type": "markdown",
   "metadata": {},
   "source": [
    "> The data columns were reorganized to improve readability and make the dataset easier to interpret when viewing the data."
   ]
  },
  {
   "cell_type": "code",
   "execution_count": 15,
   "metadata": {},
   "outputs": [],
   "source": [
    "#step 8: renaming the columns\n",
    "#---------------------------------------------------------------------\n",
    "column_renames = {\n",
    "    'year': 'Year',\n",
    "    'month': 'Month',\n",
    "    'season': 'Season',\n",
    "    'state': 'State',\n",
    "    'permit': 'Permit Check',\n",
    "    'handgun': 'New Handgun Check',\n",
    "    'long_gun': 'New Long Gun Check',\n",
    "    'total_checks': 'Total Checks'\n",
    "    \n",
    "}\n",
    "\n",
    "df_guns_raw.rename(columns=column_renames, inplace=True)\n",
    "#---------------------------------------------------------------------"
   ]
  },
  {
   "cell_type": "markdown",
   "metadata": {},
   "source": [
    "> The data columns were renamed to improve readability and make the dataset easier to interpret when viewing the data."
   ]
  },
  {
   "cell_type": "code",
   "execution_count": 17,
   "metadata": {},
   "outputs": [
    {
     "name": "stdout",
     "output_type": "stream",
     "text": [
      "<class 'pandas.core.frame.DataFrame'>\n",
      "Int64Index: 600 entries, 495 to 1154\n",
      "Data columns (total 8 columns):\n",
      "Year                  600 non-null int64\n",
      "Month                 600 non-null int64\n",
      "Season                600 non-null object\n",
      "State                 600 non-null object\n",
      "Permit Check          600 non-null float64\n",
      "New Handgun Check     600 non-null float64\n",
      "New Long Gun Check    600 non-null float64\n",
      "Total Checks          600 non-null float64\n",
      "dtypes: float64(4), int64(2), object(2)\n",
      "memory usage: 42.2+ KB\n"
     ]
    }
   ],
   "source": [
    "#step 9: filter data for the year 2016\n",
    "#---------------------------------------------------------------------\n",
    "df_guns_raw = df_guns_raw[df_guns_raw['Year'] == 2016]\n",
    "\n",
    "#due to this change there should now be 600 records in the file.\n",
    "df_guns_raw.info()\n",
    "#---------------------------------------------------------------------"
   ]
  },
  {
   "cell_type": "markdown",
   "metadata": {},
   "source": [
    "> The data was filtered to include only the year 2016 to ensure a valid comparison with the 2016 census data and to avoid skewing the results by limiting the firearms checks to the same year."
   ]
  },
  {
   "cell_type": "code",
   "execution_count": 18,
   "metadata": {},
   "outputs": [],
   "source": [
    "#step 10: save the cleaned and filtered data to a new file\n",
    "#---------------------------------------------------------------------\n",
    "#saving the file as its own stand alone file\n",
    "filtered_2016_file_path = 'Database_Ncis_and_Census_data/cleaned_gun_data_2016.xlsx'\n",
    "df_guns_raw.to_excel(filtered_2016_file_path, index=False)\n",
    "#---------------------------------------------------------------------"
   ]
  },
  {
   "cell_type": "markdown",
   "metadata": {},
   "source": [
    "### Data Cleaning df_census_raw\n",
    ">The data file df_census_raw will now be cleaned up. Removal of unnecessary columns and rows will occur. Rows containing entities that do not belong to the year of 2016 will be removed as the data analysis is strictly focusing on data of 2016 for comparison purposes."
   ]
  },
  {
   "cell_type": "code",
   "execution_count": 19,
   "metadata": {},
   "outputs": [],
   "source": [
    "### DATA CLEANING - df_census_raw\n",
    "#step 1: removal of the rows that are not needeed for analysis\n",
    "#---------------------------------------------------------------------\n",
    "rows_to_keep = [0] + list(range(13, 20))\n",
    "\n",
    "df_census_raw = df_census_raw.iloc[rows_to_keep]\n",
    "#---------------------------------------------------------------------"
   ]
  },
  {
   "cell_type": "markdown",
   "metadata": {},
   "source": [
    "> These rows were selected to keep for usage in the analysis later on."
   ]
  },
  {
   "cell_type": "code",
   "execution_count": 20,
   "metadata": {},
   "outputs": [],
   "source": [
    "#step 2: removal of the 'Fact Note' column that is not needeed for analysis\n",
    "#---------------------------------------------------------------------\n",
    "df_census_raw = df_census_raw.drop(columns=['Fact Note'])\n",
    "#---------------------------------------------------------------------"
   ]
  },
  {
   "cell_type": "markdown",
   "metadata": {},
   "source": [
    "> The 'Fact Note' column is being dropped as it will not be used for analysis."
   ]
  },
  {
   "cell_type": "code",
   "execution_count": 21,
   "metadata": {},
   "outputs": [],
   "source": [
    "#step 3: restructuring the data file for easier legibility and preserving the relationships of the data\n",
    "#---------------------------------------------------------------------\n",
    "#melt the data frame so that state columns are turned into one 'State' column\n",
    "df_melted = pd.melt(df_census_raw, id_vars=['Fact'], var_name='State', value_name='Value')\n",
    "\n",
    "#pivot the data frame to make each unique 'Fact' value a separate column\n",
    "df_census_raw = df_melted.pivot(index='State', columns='Fact', values='Value').reset_index()\n",
    "#---------------------------------------------------------------------"
   ]
  },
  {
   "cell_type": "markdown",
   "metadata": {},
   "source": [
    "> The reordering of the data in the file this way is to assist with both legability and for changing the variables of the data to the correct data types. Before, several columns would need to have rows of both Float and Int values, which would cause issues. Now the data will be one type per column."
   ]
  },
  {
   "cell_type": "code",
   "execution_count": 22,
   "metadata": {},
   "outputs": [
    {
     "data": {
      "text/html": [
       "<div>\n",
       "<style scoped>\n",
       "    .dataframe tbody tr th:only-of-type {\n",
       "        vertical-align: middle;\n",
       "    }\n",
       "\n",
       "    .dataframe tbody tr th {\n",
       "        vertical-align: top;\n",
       "    }\n",
       "\n",
       "    .dataframe thead th {\n",
       "        text-align: right;\n",
       "    }\n",
       "</style>\n",
       "<table border=\"1\" class=\"dataframe\">\n",
       "  <thead>\n",
       "    <tr style=\"text-align: right;\">\n",
       "      <th>Fact</th>\n",
       "      <th>State</th>\n",
       "      <th>American Indian/Alaskan Native</th>\n",
       "      <th>Asian</th>\n",
       "      <th>Black or African American</th>\n",
       "      <th>Hispanic or Latino</th>\n",
       "      <th>Native Hawaiian/Other Pacific</th>\n",
       "      <th>Population Estimates</th>\n",
       "      <th>Two or More Races</th>\n",
       "      <th>White</th>\n",
       "    </tr>\n",
       "  </thead>\n",
       "  <tbody>\n",
       "    <tr>\n",
       "      <th>0</th>\n",
       "      <td>Alabama</td>\n",
       "      <td>0.70%</td>\n",
       "      <td>1.40%</td>\n",
       "      <td>26.80%</td>\n",
       "      <td>4.20%</td>\n",
       "      <td>0.10%</td>\n",
       "      <td>4,863,300</td>\n",
       "      <td>1.60%</td>\n",
       "      <td>65.80%</td>\n",
       "    </tr>\n",
       "    <tr>\n",
       "      <th>1</th>\n",
       "      <td>Alaska</td>\n",
       "      <td>15.20%</td>\n",
       "      <td>6.30%</td>\n",
       "      <td>3.80%</td>\n",
       "      <td>7.00%</td>\n",
       "      <td>1.30%</td>\n",
       "      <td>741,894</td>\n",
       "      <td>7.30%</td>\n",
       "      <td>61.20%</td>\n",
       "    </tr>\n",
       "    <tr>\n",
       "      <th>2</th>\n",
       "      <td>Arizona</td>\n",
       "      <td>5.40%</td>\n",
       "      <td>3.40%</td>\n",
       "      <td>4.90%</td>\n",
       "      <td>30.90%</td>\n",
       "      <td>0.30%</td>\n",
       "      <td>6,931,071</td>\n",
       "      <td>2.80%</td>\n",
       "      <td>55.50%</td>\n",
       "    </tr>\n",
       "    <tr>\n",
       "      <th>3</th>\n",
       "      <td>Arkansas</td>\n",
       "      <td>1.00%</td>\n",
       "      <td>1.60%</td>\n",
       "      <td>15.70%</td>\n",
       "      <td>7.30%</td>\n",
       "      <td>0.30%</td>\n",
       "      <td>2,988,248</td>\n",
       "      <td>2.00%</td>\n",
       "      <td>72.90%</td>\n",
       "    </tr>\n",
       "    <tr>\n",
       "      <th>4</th>\n",
       "      <td>California</td>\n",
       "      <td>1.70%</td>\n",
       "      <td>14.80%</td>\n",
       "      <td>6.50%</td>\n",
       "      <td>38.90%</td>\n",
       "      <td>0.50%</td>\n",
       "      <td>39,250,017</td>\n",
       "      <td>3.80%</td>\n",
       "      <td>37.70%</td>\n",
       "    </tr>\n",
       "  </tbody>\n",
       "</table>\n",
       "</div>"
      ],
      "text/plain": [
       "Fact       State American Indian/Alaskan Native   Asian  \\\n",
       "0        Alabama                          0.70%   1.40%   \n",
       "1         Alaska                         15.20%   6.30%   \n",
       "2        Arizona                          5.40%   3.40%   \n",
       "3       Arkansas                          1.00%   1.60%   \n",
       "4     California                          1.70%  14.80%   \n",
       "\n",
       "Fact Black or African American Hispanic or Latino  \\\n",
       "0                       26.80%              4.20%   \n",
       "1                        3.80%              7.00%   \n",
       "2                        4.90%             30.90%   \n",
       "3                       15.70%              7.30%   \n",
       "4                        6.50%             38.90%   \n",
       "\n",
       "Fact Native Hawaiian/Other Pacific Population Estimates Two or More Races  \\\n",
       "0                            0.10%            4,863,300             1.60%   \n",
       "1                            1.30%              741,894             7.30%   \n",
       "2                            0.30%            6,931,071             2.80%   \n",
       "3                            0.30%            2,988,248             2.00%   \n",
       "4                            0.50%           39,250,017             3.80%   \n",
       "\n",
       "Fact   White  \n",
       "0     65.80%  \n",
       "1     61.20%  \n",
       "2     55.50%  \n",
       "3     72.90%  \n",
       "4     37.70%  "
      ]
     },
     "execution_count": 22,
     "metadata": {},
     "output_type": "execute_result"
    }
   ],
   "source": [
    "#step 4: renaming the colums to make the data easier to understand\n",
    "#---------------------------------------------------------------------\n",
    "column_renames = {\n",
    "    'American Indian and Alaska Native alone, percent, July 1, 2016,  (V2016)': 'American Indian/Alaskan Native',\n",
    "    'Asian alone, percent, July 1, 2016,  (V2016)': 'Asian',\n",
    "    'Black or African American alone, percent, July 1, 2016,  (V2016)': 'Black or African American',\n",
    "    'Hispanic or Latino, percent, July 1, 2016,  (V2016)': 'Hispanic or Latino',\n",
    "    'Native Hawaiian and Other Pacific Islander alone, percent, July 1, 2016,  (V2016)': 'Native Hawaiian/Other Pacific',\n",
    "    'Two or More Races, percent, July 1, 2016,  (V2016)': 'Two or More Races',\n",
    "    'White alone, not Hispanic or Latino, percent, July 1, 2016,  (V2016)': 'White',\n",
    "    'Population estimates, July 1, 2016,  (V2016)': 'Population Estimates'\n",
    "}\n",
    "\n",
    "#rename columns except the 'state' column\n",
    "df_census_raw.rename(columns={col: column_renames[col] for col in df_census_raw.columns if col != 'State'}, inplace=True)\n",
    "\n",
    "#display the first few rows to verify the changes\n",
    "df_census_raw.head()\n",
    "#---------------------------------------------------------------------"
   ]
  },
  {
   "cell_type": "markdown",
   "metadata": {},
   "source": [
    "> The data columns were renamed to improve readability and make the dataset easier to interpret when viewing the data."
   ]
  },
  {
   "cell_type": "code",
   "execution_count": 23,
   "metadata": {},
   "outputs": [],
   "source": [
    "#step 5: Correcting Decimal Representation in Specific Rows\n",
    "#---------------------------------------------------------------------\n",
    "#list of states to correct\n",
    "states_to_correct = ['New Mexico', 'New York', 'North Carolina', 'North Dakota', 'Ohio', \n",
    "                     'Oklahoma', 'Oregon', 'Pennsylvania', 'Rhode Island', 'South Carolina', \n",
    "                     'South Dakota', 'Tennessee']\n",
    "\n",
    "#columns to correct (all percentage columns, excluding 'Population Estimates')\n",
    "columns_to_correct = ['American Indian/Alaskan Native', 'Asian', 'Black or African American',\n",
    "                      'Hispanic or Latino', 'Native Hawaiian/Other Pacific', 'Two or More Races', 'White']\n",
    "\n",
    "#apply the correction by multiplying by 100\n",
    "df_census_raw.loc[df_census_raw['State'].isin(states_to_correct), columns_to_correct] = (\n",
    "    df_census_raw.loc[df_census_raw['State'].isin(states_to_correct), columns_to_correct].apply(pd.to_numeric, errors='coerce') * 100\n",
    ")\n",
    "#---------------------------------------------------------------------"
   ]
  },
  {
   "cell_type": "markdown",
   "metadata": {},
   "source": [
    "> This needed to be performed at the records in states_to_correct were displaying the numbers in an incorrect format, skewing the data."
   ]
  },
  {
   "cell_type": "code",
   "execution_count": 24,
   "metadata": {},
   "outputs": [
    {
     "data": {
      "text/html": [
       "<div>\n",
       "<style scoped>\n",
       "    .dataframe tbody tr th:only-of-type {\n",
       "        vertical-align: middle;\n",
       "    }\n",
       "\n",
       "    .dataframe tbody tr th {\n",
       "        vertical-align: top;\n",
       "    }\n",
       "\n",
       "    .dataframe thead th {\n",
       "        text-align: right;\n",
       "    }\n",
       "</style>\n",
       "<table border=\"1\" class=\"dataframe\">\n",
       "  <thead>\n",
       "    <tr style=\"text-align: right;\">\n",
       "      <th>Fact</th>\n",
       "      <th>State</th>\n",
       "      <th>Population Estimates</th>\n",
       "      <th>White</th>\n",
       "      <th>Black or African American</th>\n",
       "      <th>Hispanic or Latino</th>\n",
       "      <th>Asian</th>\n",
       "      <th>American Indian/Alaskan Native</th>\n",
       "      <th>Native Hawaiian/Other Pacific</th>\n",
       "      <th>Two or More Races</th>\n",
       "    </tr>\n",
       "  </thead>\n",
       "  <tbody>\n",
       "    <tr>\n",
       "      <th>0</th>\n",
       "      <td>Alabama</td>\n",
       "      <td>4,863,300</td>\n",
       "      <td>65.80%</td>\n",
       "      <td>26.80%</td>\n",
       "      <td>4.20%</td>\n",
       "      <td>1.40%</td>\n",
       "      <td>0.70%</td>\n",
       "      <td>0.10%</td>\n",
       "      <td>1.60%</td>\n",
       "    </tr>\n",
       "    <tr>\n",
       "      <th>1</th>\n",
       "      <td>Alaska</td>\n",
       "      <td>741,894</td>\n",
       "      <td>61.20%</td>\n",
       "      <td>3.80%</td>\n",
       "      <td>7.00%</td>\n",
       "      <td>6.30%</td>\n",
       "      <td>15.20%</td>\n",
       "      <td>1.30%</td>\n",
       "      <td>7.30%</td>\n",
       "    </tr>\n",
       "    <tr>\n",
       "      <th>2</th>\n",
       "      <td>Arizona</td>\n",
       "      <td>6,931,071</td>\n",
       "      <td>55.50%</td>\n",
       "      <td>4.90%</td>\n",
       "      <td>30.90%</td>\n",
       "      <td>3.40%</td>\n",
       "      <td>5.40%</td>\n",
       "      <td>0.30%</td>\n",
       "      <td>2.80%</td>\n",
       "    </tr>\n",
       "    <tr>\n",
       "      <th>3</th>\n",
       "      <td>Arkansas</td>\n",
       "      <td>2,988,248</td>\n",
       "      <td>72.90%</td>\n",
       "      <td>15.70%</td>\n",
       "      <td>7.30%</td>\n",
       "      <td>1.60%</td>\n",
       "      <td>1.00%</td>\n",
       "      <td>0.30%</td>\n",
       "      <td>2.00%</td>\n",
       "    </tr>\n",
       "    <tr>\n",
       "      <th>4</th>\n",
       "      <td>California</td>\n",
       "      <td>39,250,017</td>\n",
       "      <td>37.70%</td>\n",
       "      <td>6.50%</td>\n",
       "      <td>38.90%</td>\n",
       "      <td>14.80%</td>\n",
       "      <td>1.70%</td>\n",
       "      <td>0.50%</td>\n",
       "      <td>3.80%</td>\n",
       "    </tr>\n",
       "  </tbody>\n",
       "</table>\n",
       "</div>"
      ],
      "text/plain": [
       "Fact       State Population Estimates   White Black or African American  \\\n",
       "0        Alabama            4,863,300  65.80%                    26.80%   \n",
       "1         Alaska              741,894  61.20%                     3.80%   \n",
       "2        Arizona            6,931,071  55.50%                     4.90%   \n",
       "3       Arkansas            2,988,248  72.90%                    15.70%   \n",
       "4     California           39,250,017  37.70%                     6.50%   \n",
       "\n",
       "Fact Hispanic or Latino   Asian American Indian/Alaskan Native  \\\n",
       "0                 4.20%   1.40%                          0.70%   \n",
       "1                 7.00%   6.30%                         15.20%   \n",
       "2                30.90%   3.40%                          5.40%   \n",
       "3                 7.30%   1.60%                          1.00%   \n",
       "4                38.90%  14.80%                          1.70%   \n",
       "\n",
       "Fact Native Hawaiian/Other Pacific Two or More Races  \n",
       "0                            0.10%             1.60%  \n",
       "1                            1.30%             7.30%  \n",
       "2                            0.30%             2.80%  \n",
       "3                            0.30%             2.00%  \n",
       "4                            0.50%             3.80%  "
      ]
     },
     "execution_count": 24,
     "metadata": {},
     "output_type": "execute_result"
    }
   ],
   "source": [
    "#step 6: reordering the columns to flow better for readability\n",
    "#---------------------------------------------------------------------\n",
    "reordering = ['State', 'Population Estimates', 'White', 'Black or African American', 'Hispanic or Latino', 'Asian', 'American Indian/Alaskan Native', 'Native Hawaiian/Other Pacific', 'Two or More Races']\n",
    "df_census_raw = df_census_raw[reordering]\n",
    "\n",
    "#display the first few rows to verify the changes\n",
    "df_census_raw.head()\n",
    "#---------------------------------------------------------------------"
   ]
  },
  {
   "cell_type": "markdown",
   "metadata": {},
   "source": [
    "> The data columns were reorganized to improve readability and make the dataset easier to interpret when viewing the data."
   ]
  },
  {
   "cell_type": "code",
   "execution_count": 25,
   "metadata": {},
   "outputs": [
    {
     "name": "stdout",
     "output_type": "stream",
     "text": [
      "Fact\n",
      "State                              object\n",
      "Population Estimates                Int64\n",
      "White                             float64\n",
      "Black or African American         float64\n",
      "Hispanic or Latino                float64\n",
      "Asian                             float64\n",
      "American Indian/Alaskan Native    float64\n",
      "Native Hawaiian/Other Pacific     float64\n",
      "Two or More Races                 float64\n",
      "dtype: object\n"
     ]
    }
   ],
   "source": [
    "#step 7: cleaning the data\n",
    "#---------------------------------------------------------------------\n",
    "# Function to clean the data by removing non-numeric characters\n",
    "def clean_column(column):\n",
    "    return column.replace({'%': '', ',': '', '$': ''}, regex=True)\n",
    "\n",
    "#clean all columns except 'State' and 'Population Estimates'\n",
    "columns_to_clean = [col for col in df_census_raw.columns if col not in ['State', 'Population Estimates']]\n",
    "df_census_raw[columns_to_clean] = df_census_raw[columns_to_clean].apply(clean_column)\n",
    "\n",
    "#convert 'Population Estimates' to integer\n",
    "df_census_raw['Population Estimates'] = pd.to_numeric(df_census_raw['Population Estimates'].replace(',', '', regex=True), errors='coerce').astype('Int64')\n",
    "\n",
    "#convert all other columns (except 'State' and 'Population Estimates') to float\n",
    "df_census_raw[columns_to_clean] = df_census_raw[columns_to_clean].apply(pd.to_numeric, errors='coerce')\n",
    "\n",
    "#display the data types to confirm the conversion\n",
    "print(df_census_raw.dtypes)\n",
    "#---------------------------------------------------------------------"
   ]
  },
  {
   "cell_type": "markdown",
   "metadata": {},
   "source": [
    "> The data was cleaned by removing the non-numeric characters to allow for the data types to be converted to Int64 and Float64 respectively. This was to allow poper analysis for when we start exploring the data."
   ]
  },
  {
   "cell_type": "code",
   "execution_count": 26,
   "metadata": {},
   "outputs": [
    {
     "name": "stdout",
     "output_type": "stream",
     "text": [
      "Missing values before imputation: Fact\n",
      "State                             0\n",
      "Population Estimates              0\n",
      "White                             0\n",
      "Black or African American         0\n",
      "Hispanic or Latino                0\n",
      "Asian                             0\n",
      "American Indian/Alaskan Native    0\n",
      "Native Hawaiian/Other Pacific     4\n",
      "Two or More Races                 0\n",
      "dtype: int64\n"
     ]
    }
   ],
   "source": [
    "#step 8: handling any missing values\n",
    "#---------------------------------------------------------------------\n",
    "#check for missing values\n",
    "missing_values = df_census_raw.isnull().sum()\n",
    "print(\"Missing values before imputation:\", missing_values)\n",
    "\n",
    "#input missing values in the 'permit' column with 0\n",
    "df_census_raw['Native Hawaiian/Other Pacific'].fillna(0, inplace=True)\n",
    "#---------------------------------------------------------------------"
   ]
  },
  {
   "cell_type": "markdown",
   "metadata": {},
   "source": [
    "> The data was checked for missing values and located 4 of them. These values were filled in with 0 due to the small amount of them and then a follow up check was performed to make sure that the data has no additional missing values."
   ]
  },
  {
   "cell_type": "code",
   "execution_count": 27,
   "metadata": {},
   "outputs": [
    {
     "name": "stdout",
     "output_type": "stream",
     "text": [
      "Missing values before imputation: Fact\n",
      "State                             0\n",
      "Population Estimates              0\n",
      "White                             0\n",
      "Black or African American         0\n",
      "Hispanic or Latino                0\n",
      "Asian                             0\n",
      "American Indian/Alaskan Native    0\n",
      "Native Hawaiian/Other Pacific     0\n",
      "Two or More Races                 0\n",
      "dtype: int64\n"
     ]
    }
   ],
   "source": [
    "#step 9: verify there are no missing values\n",
    "#---------------------------------------------------------------------\n",
    "#check for missing values\n",
    "missing_values = df_census_raw.isnull().sum()\n",
    "print(\"Missing values before imputation:\", missing_values)\n",
    "#---------------------------------------------------------------------"
   ]
  },
  {
   "cell_type": "code",
   "execution_count": 28,
   "metadata": {},
   "outputs": [],
   "source": [
    "#---------------------------------------------------------------------\n",
    "#saving the file as its own stand alone file\n",
    "census_filtered_2016_file_path = 'Database_Ncis_and_Census_data/cleaned_census_data_2016.csv'\n",
    "df_census_raw.to_csv(census_filtered_2016_file_path, index=False)\n",
    "#---------------------------------------------------------------------"
   ]
  },
  {
   "cell_type": "markdown",
   "metadata": {},
   "source": [
    "## Loading the Cleaned Files"
   ]
  },
  {
   "cell_type": "code",
   "execution_count": 29,
   "metadata": {},
   "outputs": [
    {
     "data": {
      "text/html": [
       "<div>\n",
       "<style scoped>\n",
       "    .dataframe tbody tr th:only-of-type {\n",
       "        vertical-align: middle;\n",
       "    }\n",
       "\n",
       "    .dataframe tbody tr th {\n",
       "        vertical-align: top;\n",
       "    }\n",
       "\n",
       "    .dataframe thead th {\n",
       "        text-align: right;\n",
       "    }\n",
       "</style>\n",
       "<table border=\"1\" class=\"dataframe\">\n",
       "  <thead>\n",
       "    <tr style=\"text-align: right;\">\n",
       "      <th></th>\n",
       "      <th>State</th>\n",
       "      <th>Population Estimates</th>\n",
       "      <th>White</th>\n",
       "      <th>Black or African American</th>\n",
       "      <th>Hispanic or Latino</th>\n",
       "      <th>Asian</th>\n",
       "      <th>American Indian/Alaskan Native</th>\n",
       "      <th>Native Hawaiian/Other Pacific</th>\n",
       "      <th>Two or More Races</th>\n",
       "    </tr>\n",
       "  </thead>\n",
       "  <tbody>\n",
       "    <tr>\n",
       "      <th>0</th>\n",
       "      <td>Alabama</td>\n",
       "      <td>4863300</td>\n",
       "      <td>65.8</td>\n",
       "      <td>26.8</td>\n",
       "      <td>4.2</td>\n",
       "      <td>1.4</td>\n",
       "      <td>0.7</td>\n",
       "      <td>0.1</td>\n",
       "      <td>1.6</td>\n",
       "    </tr>\n",
       "    <tr>\n",
       "      <th>1</th>\n",
       "      <td>Alaska</td>\n",
       "      <td>741894</td>\n",
       "      <td>61.2</td>\n",
       "      <td>3.8</td>\n",
       "      <td>7.0</td>\n",
       "      <td>6.3</td>\n",
       "      <td>15.2</td>\n",
       "      <td>1.3</td>\n",
       "      <td>7.3</td>\n",
       "    </tr>\n",
       "    <tr>\n",
       "      <th>2</th>\n",
       "      <td>Arizona</td>\n",
       "      <td>6931071</td>\n",
       "      <td>55.5</td>\n",
       "      <td>4.9</td>\n",
       "      <td>30.9</td>\n",
       "      <td>3.4</td>\n",
       "      <td>5.4</td>\n",
       "      <td>0.3</td>\n",
       "      <td>2.8</td>\n",
       "    </tr>\n",
       "    <tr>\n",
       "      <th>3</th>\n",
       "      <td>Arkansas</td>\n",
       "      <td>2988248</td>\n",
       "      <td>72.9</td>\n",
       "      <td>15.7</td>\n",
       "      <td>7.3</td>\n",
       "      <td>1.6</td>\n",
       "      <td>1.0</td>\n",
       "      <td>0.3</td>\n",
       "      <td>2.0</td>\n",
       "    </tr>\n",
       "    <tr>\n",
       "      <th>4</th>\n",
       "      <td>California</td>\n",
       "      <td>39250017</td>\n",
       "      <td>37.7</td>\n",
       "      <td>6.5</td>\n",
       "      <td>38.9</td>\n",
       "      <td>14.8</td>\n",
       "      <td>1.7</td>\n",
       "      <td>0.5</td>\n",
       "      <td>3.8</td>\n",
       "    </tr>\n",
       "  </tbody>\n",
       "</table>\n",
       "</div>"
      ],
      "text/plain": [
       "        State  Population Estimates  White  Black or African American  \\\n",
       "0     Alabama               4863300   65.8                       26.8   \n",
       "1      Alaska                741894   61.2                        3.8   \n",
       "2     Arizona               6931071   55.5                        4.9   \n",
       "3    Arkansas               2988248   72.9                       15.7   \n",
       "4  California              39250017   37.7                        6.5   \n",
       "\n",
       "   Hispanic or Latino  Asian  American Indian/Alaskan Native  \\\n",
       "0                 4.2    1.4                             0.7   \n",
       "1                 7.0    6.3                            15.2   \n",
       "2                30.9    3.4                             5.4   \n",
       "3                 7.3    1.6                             1.0   \n",
       "4                38.9   14.8                             1.7   \n",
       "\n",
       "   Native Hawaiian/Other Pacific  Two or More Races  \n",
       "0                            0.1                1.6  \n",
       "1                            1.3                7.3  \n",
       "2                            0.3                2.8  \n",
       "3                            0.3                2.0  \n",
       "4                            0.5                3.8  "
      ]
     },
     "execution_count": 29,
     "metadata": {},
     "output_type": "execute_result"
    }
   ],
   "source": [
    "#loading the data file cleaned_census_data_2016.csv for analysis\n",
    "cleaned_census_data_file_path = 'Database_Ncis_and_Census_data/cleaned_census_data_2016.csv'\n",
    "\n",
    "#loading the data file \n",
    "df_cleaned_census = pd.read_csv(cleaned_census_data_file_path)\n",
    "\n",
    "#printing a few lines to test that the files loaded correctly\n",
    "df_cleaned_census.head()\n",
    "#---------------------------------------------------------------------"
   ]
  },
  {
   "cell_type": "code",
   "execution_count": 30,
   "metadata": {},
   "outputs": [
    {
     "data": {
      "text/html": [
       "<div>\n",
       "<style scoped>\n",
       "    .dataframe tbody tr th:only-of-type {\n",
       "        vertical-align: middle;\n",
       "    }\n",
       "\n",
       "    .dataframe tbody tr th {\n",
       "        vertical-align: top;\n",
       "    }\n",
       "\n",
       "    .dataframe thead th {\n",
       "        text-align: right;\n",
       "    }\n",
       "</style>\n",
       "<table border=\"1\" class=\"dataframe\">\n",
       "  <thead>\n",
       "    <tr style=\"text-align: right;\">\n",
       "      <th></th>\n",
       "      <th>Year</th>\n",
       "      <th>Month</th>\n",
       "      <th>Season</th>\n",
       "      <th>State</th>\n",
       "      <th>Permit Check</th>\n",
       "      <th>New Handgun Check</th>\n",
       "      <th>New Long Gun Check</th>\n",
       "      <th>Total Checks</th>\n",
       "    </tr>\n",
       "  </thead>\n",
       "  <tbody>\n",
       "    <tr>\n",
       "      <th>0</th>\n",
       "      <td>2016</td>\n",
       "      <td>12</td>\n",
       "      <td>winter</td>\n",
       "      <td>Alabama</td>\n",
       "      <td>26996</td>\n",
       "      <td>13733</td>\n",
       "      <td>17519</td>\n",
       "      <td>58248</td>\n",
       "    </tr>\n",
       "    <tr>\n",
       "      <th>1</th>\n",
       "      <td>2016</td>\n",
       "      <td>12</td>\n",
       "      <td>winter</td>\n",
       "      <td>Alaska</td>\n",
       "      <td>254</td>\n",
       "      <td>4087</td>\n",
       "      <td>3698</td>\n",
       "      <td>8039</td>\n",
       "    </tr>\n",
       "    <tr>\n",
       "      <th>2</th>\n",
       "      <td>2016</td>\n",
       "      <td>12</td>\n",
       "      <td>winter</td>\n",
       "      <td>Arizona</td>\n",
       "      <td>8900</td>\n",
       "      <td>18024</td>\n",
       "      <td>13785</td>\n",
       "      <td>40709</td>\n",
       "    </tr>\n",
       "    <tr>\n",
       "      <th>3</th>\n",
       "      <td>2016</td>\n",
       "      <td>12</td>\n",
       "      <td>winter</td>\n",
       "      <td>Arkansas</td>\n",
       "      <td>3294</td>\n",
       "      <td>9192</td>\n",
       "      <td>13433</td>\n",
       "      <td>25919</td>\n",
       "    </tr>\n",
       "    <tr>\n",
       "      <th>4</th>\n",
       "      <td>2016</td>\n",
       "      <td>12</td>\n",
       "      <td>winter</td>\n",
       "      <td>California</td>\n",
       "      <td>61808</td>\n",
       "      <td>63649</td>\n",
       "      <td>93224</td>\n",
       "      <td>218681</td>\n",
       "    </tr>\n",
       "  </tbody>\n",
       "</table>\n",
       "</div>"
      ],
      "text/plain": [
       "   Year  Month  Season       State  Permit Check  New Handgun Check  \\\n",
       "0  2016     12  winter     Alabama         26996              13733   \n",
       "1  2016     12  winter      Alaska           254               4087   \n",
       "2  2016     12  winter     Arizona          8900              18024   \n",
       "3  2016     12  winter    Arkansas          3294               9192   \n",
       "4  2016     12  winter  California         61808              63649   \n",
       "\n",
       "   New Long Gun Check  Total Checks  \n",
       "0               17519         58248  \n",
       "1                3698          8039  \n",
       "2               13785         40709  \n",
       "3               13433         25919  \n",
       "4               93224        218681  "
      ]
     },
     "execution_count": 30,
     "metadata": {},
     "output_type": "execute_result"
    }
   ],
   "source": [
    "#loading the data file cleaned_gun_data_2016.xlsx for analysis\n",
    "cleaned_gun_data_file_path = 'Database_Ncis_and_Census_data/cleaned_gun_data_2016.xlsx'\n",
    "\n",
    "#loading the data file \n",
    "df_cleaned_guns = pd.read_excel(cleaned_gun_data_file_path)\n",
    "\n",
    "#printing a few lines to test that the files loaded correctly\n",
    "df_cleaned_guns.head()\n",
    "#----------------------"
   ]
  },
  {
   "cell_type": "code",
   "execution_count": 31,
   "metadata": {},
   "outputs": [
    {
     "name": "stdout",
     "output_type": "stream",
     "text": [
      "Number of duplicate rows df_cleaned_guns: 0\n",
      "Number of duplicate rows in df_cleaned_census: 0\n"
     ]
    }
   ],
   "source": [
    "#checking for duplicate records in the data of df_guns_raw\n",
    "duplicate_count = df_cleaned_guns.duplicated().sum()\n",
    "print(f\"Number of duplicate rows df_cleaned_guns: {duplicate_count}\")\n",
    "\n",
    "#checking for duplicate records in the data\n",
    "duplicate_count = df_cleaned_census.duplicated().sum()\n",
    "print(f\"Number of duplicate rows in df_cleaned_census: {duplicate_count}\")\n",
    "#---------------------------------------------------------------------"
   ]
  },
  {
   "cell_type": "code",
   "execution_count": 32,
   "metadata": {},
   "outputs": [
    {
     "name": "stdout",
     "output_type": "stream",
     "text": [
      "<class 'pandas.core.frame.DataFrame'>\n",
      "RangeIndex: 600 entries, 0 to 599\n",
      "Data columns (total 8 columns):\n",
      "Year                  600 non-null int64\n",
      "Month                 600 non-null int64\n",
      "Season                600 non-null object\n",
      "State                 600 non-null object\n",
      "Permit Check          600 non-null int64\n",
      "New Handgun Check     600 non-null int64\n",
      "New Long Gun Check    600 non-null int64\n",
      "Total Checks          600 non-null int64\n",
      "dtypes: int64(6), object(2)\n",
      "memory usage: 37.6+ KB\n"
     ]
    }
   ],
   "source": [
    "#checking file information in the data of df_guns_raw\n",
    "df_cleaned_guns.info()\n",
    "#---------------------------------------------------------------------"
   ]
  },
  {
   "cell_type": "code",
   "execution_count": 33,
   "metadata": {},
   "outputs": [
    {
     "name": "stdout",
     "output_type": "stream",
     "text": [
      "<class 'pandas.core.frame.DataFrame'>\n",
      "RangeIndex: 50 entries, 0 to 49\n",
      "Data columns (total 9 columns):\n",
      "State                             50 non-null object\n",
      "Population Estimates              50 non-null int64\n",
      "White                             50 non-null float64\n",
      "Black or African American         50 non-null float64\n",
      "Hispanic or Latino                50 non-null float64\n",
      "Asian                             50 non-null float64\n",
      "American Indian/Alaskan Native    50 non-null float64\n",
      "Native Hawaiian/Other Pacific     50 non-null float64\n",
      "Two or More Races                 50 non-null float64\n",
      "dtypes: float64(7), int64(1), object(1)\n",
      "memory usage: 3.6+ KB\n"
     ]
    }
   ],
   "source": [
    "#checking file information in the data df_census_raw\n",
    "df_cleaned_census.info()\n",
    "#---------------------------------------------------------------------"
   ]
  },
  {
   "cell_type": "markdown",
   "metadata": {},
   "source": [
    "> The above sections were used to load the cleaned and modified code files for analysis. Additional testing was performed here to check and ensure all changes were corect and that there were no duplicates in the modified data."
   ]
  },
  {
   "cell_type": "markdown",
   "metadata": {},
   "source": [
    "<a id='eda'></a>\n",
    "## Exploratory Data Analysis\n",
    "\n",
    "### Research Question 1 - Is there a potential relationship between race and the frequency of gun purchase checks?"
   ]
  },
  {
   "cell_type": "code",
   "execution_count": 34,
   "metadata": {},
   "outputs": [],
   "source": [
    "#aggregate gun purchase data by summing over all months for each state\n",
    "df_cleaned_guns_yearly = df_cleaned_guns.groupby('State').sum().reset_index()\n",
    "\n",
    "#merge the aggregated gun data with the census data\n",
    "merged_data = pd.merge(df_cleaned_census, df_cleaned_guns_yearly, on='State')\n",
    "\n",
    "#ensure only numeric columns are included\n",
    "numeric_data = merged_data.drop(columns=['State']).apply(pd.to_numeric, errors='coerce')\n",
    "\n",
    "#calculate the correlation matrix\n",
    "correlation_matrix = numeric_data.corr()\n",
    "\n",
    "#extract the relevant correlations\n",
    "race_columns = ['White', 'Black or African American', 'Hispanic or Latino']\n",
    "gun_purchase_columns = ['Permit Check', 'New Handgun Check', 'New Long Gun Check']\n",
    "\n",
    "race_gun_correlation = correlation_matrix.loc[race_columns, gun_purchase_columns]"
   ]
  },
  {
   "cell_type": "code",
   "execution_count": 38,
   "metadata": {},
   "outputs": [
    {
     "data": {
      "image/png": "[encoded data removed]",
      "text/plain": [
       "<matplotlib.figure.Figure at 0x7945b84ec9b0>"
      ]
     },
     "metadata": {
      "needs_background": "light"
     },
     "output_type": "display_data"
    },
    {
     "data": {
      "image/png": "[encoded data removed]",
      "text/plain": [
       "<matplotlib.figure.Figure at 0x7945b82bdc88>"
      ]
     },
     "metadata": {
      "needs_background": "light"
     },
     "output_type": "display_data"
    },
    {
     "data": {
      "image/png": "[encoded data removed]",
      "text/plain": [
       "<matplotlib.figure.Figure at 0x7945b8540278>"
      ]
     },
     "metadata": {
      "needs_background": "light"
     },
     "output_type": "display_data"
    },
    {
     "data": {
      "image/png": "[encoded data removed]",
      "text/plain": [
       "<matplotlib.figure.Figure at 0x7945b7f69a90>"
      ]
     },
     "metadata": {
      "needs_background": "light"
     },
     "output_type": "display_data"
    },
    {
     "data": {
      "image/png": "[encoded data removed]",
      "text/plain": [
       "<matplotlib.figure.Figure at 0x7945b7f8eac8>"
      ]
     },
     "metadata": {
      "needs_background": "light"
     },
     "output_type": "display_data"
    },
    {
     "data": {
      "image/png": "[encoded data removed]",
      "text/plain": [
       "<matplotlib.figure.Figure at 0x7945b810edd8>"
      ]
     },
     "metadata": {
      "needs_background": "light"
     },
     "output_type": "display_data"
    },
    {
     "data": {
      "image/png": "[encoded data removed]",
      "text/plain": [
       "<matplotlib.figure.Figure at 0x7945b85631d0>"
      ]
     },
     "metadata": {
      "needs_background": "light"
     },
     "output_type": "display_data"
    },
    {
     "data": {
      "image/png": "[encoded data removed]",
      "text/plain": [
       "<matplotlib.figure.Figure at 0x7945b86dce80>"
      ]
     },
     "metadata": {
      "needs_background": "light"
     },
     "output_type": "display_data"
    },
    {
     "data": {
      "image/png": "[encoded data removed]",
      "text/plain": [
       "<matplotlib.figure.Figure at 0x7945b84c7ba8>"
      ]
     },
     "metadata": {
      "needs_background": "light"
     },
     "output_type": "display_data"
    },
    {
     "data": {
      "image/png": "[encoded data removed]",
      "text/plain": [
       "<matplotlib.figure.Figure at 0x7945b8389eb8>"
      ]
     },
     "metadata": {
      "needs_background": "light"
     },
     "output_type": "display_data"
    }
   ],
   "source": [
    "#visualize the correlations using a heatmap\n",
    "plt.figure(figsize=(10, 6))\n",
    "sns.heatmap(race_gun_correlation, annot=True, cmap='coolwarm')\n",
    "plt.title('Correlation between Racial Demographics and Permit/Gun Checks 2016')\n",
    "plt.show()\n",
    "\n",
    "#scatter plots for visualizing specific relationships\n",
    "for race in race_columns:\n",
    "    for gun_type in gun_purchase_columns:\n",
    "        plt.figure(figsize=(8, 5))\n",
    "        plt.scatter(data=merged_data, x=race, y=gun_type)\n",
    "        plt.title(f'Relationship between {race} and {gun_type}')\n",
    "        plt.xlabel(f'{race} (%)')\n",
    "        plt.ylabel(f'{gun_type}')\n",
    "        plt.show()"
   ]
  },
  {
   "cell_type": "markdown",
   "metadata": {},
   "source": [
    "## Key Observations:\n",
    "This heatmap shows the correlation between racial demographics and various categories of gun-related checks in 2016, specifically focusing on Permit Checks, New Handgun Checks, New Long Gun Checks, and Total Checks.\n",
    "\n",
    "#### White Population:\n",
    "- Permit Check Correlation: The correlation between the White population and Permit Checks is very weakly positive (0.043), suggesting a minimal relationship.\n",
    "- New Handgun and Long Gun Checks: The correlation is negative for both New Handgun Checks (-0.26) and New Long Gun Checks (-0.34). This indicates that in areas with a higher percentage of White individuals, there tends to be a lower frequency of new handgun and long gun checks.\n",
    "\n",
    "#### Black or African American Population:\n",
    "- Positive Correlation: The correlations with New Handgun Checks (0.18) and New Long Gun Checks (0.19) are positive, indicating a moderate relationship where higher percentages of Black or African American individuals are associated with increased gun checks in these categories.\n",
    "\n",
    "#### Hispanic or Latino Population:\n",
    "- Strong Positive Correlation: The correlations with New Handgun Checks (0.35) and New Long Gun Checks (0.43) are the strongest observed, indicating that in areas with a higher percentage of Hispanic or Latino individuals, there is a higher frequency of gun checks in these categories.\n",
    "\n",
    "### Overall Interpretation:\n",
    "- Hispanic or Latino: This population shows the strongest positive correlations with gun checks, particularly for New Handgun and Long Gun Checks, which suggests that gun purchasing activities may be more prevalent in areas with larger Hispanic or Latino populations.\n",
    "- White Population: The negative correlations for New Handgun and Long Gun Checks suggest that in areas with a higher White population, there may be a lower frequency of these gun checks.\n",
    "- Black or African American: There is a moderate positive correlation with gun checks, particularly for new firearms, indicating some level of increased gun purchasing activity in these communities."
   ]
  },
  {
   "cell_type": "markdown",
   "metadata": {},
   "source": [
    "### Research Question 2  (Replace this header name!)"
   ]
  },
  {
   "cell_type": "code",
   "execution_count": 40,
   "metadata": {},
   "outputs": [
    {
     "data": {
      "image/png": "[encoded data removed]",
      "text/plain": [
       "<matplotlib.figure.Figure at 0x7945b8062710>"
      ]
     },
     "metadata": {
      "needs_background": "light"
     },
     "output_type": "display_data"
    }
   ],
   "source": [
    "#---------------------------------------------------------------------\n",
    "# Group by Season and State to sum the gun purchase checks for each season\n",
    "seasonal_trends = df_cleaned_guns.groupby(['State', 'Season']).sum().reset_index()\n",
    "\n",
    "# Bar plot to compare seasonal trends\n",
    "plt.figure(figsize=(12, 8))\n",
    "sns.barplot(data=seasonal_trends, x='Season', y='Total Checks', hue='State', ci=None)\n",
    "plt.title('Comparison of Seasonal Gun Purchase Checks by State')\n",
    "plt.ylabel('Total Gun Purchase Checks')\n",
    "plt.xlabel('Season')\n",
    "\n",
    "# Move the legend to the bottom\n",
    "plt.legend(loc='upper center', bbox_to_anchor=(0.5, -0.1), ncol=3)\n",
    "\n",
    "plt.show()\n",
    "#---------------------------------------------------------------------"
   ]
  },
  {
   "cell_type": "markdown",
   "metadata": {},
   "source": [
    "<a id='conclusions'></a>\n",
    "## Conclusions\n",
    "\n",
    "### Research Question 1:\n",
    "The analysis focused on exploring the relationship between racial demographics and the frequency of various gun-related checks in 2016. Specifically, the analysis looked at correlations between different racial groups and Permit Checks, New Handgun Checks, New Long Gun Checks, and Total Checks.\n",
    "\n",
    "#### Key Findings:\n",
    "White Population:\n",
    "> Permit Checks: There is a very weak positive correlation (0.043) between the White population and Permit Checks, indicating little to no relationship between the two.\n",
    "\n",
    ">New Handgun and Long Gun Checks: The correlation is negative for both New Handgun Checks (-0.26) and New Long Gun Checks (-0.34). This suggests that in areas with a higher percentage of White individuals, there tends to be a lower frequency of new handguns and long gun checks.\n",
    "\n",
    "Black or African American Population:\n",
    "> Gun Checks: There are positive correlations between New Handgun Checks (0.18) and New Long Gun Checks (0.19). This indicates that in areas with a higher percentage of Black or African American individuals, there is a moderate increase in the frequency of these types of gun checks.\n",
    "\n",
    "Hispanic or Latino Population:\n",
    "> Strong Positive Correlation: The strongest correlations observed in this analysis are associated with the Hispanic or Latino population. Specifically, New Handgun Checks (0.35) and New Long Gun Checks (0.43) show strong positive correlations. This suggests that in areas with a higher percentage of Hispanic or Latino individuals, there is a significantly higher frequency of gun checks, particularly for new firearms. However, this suggestion is not concrete and would require further analysis to determing \n",
    " \n",
    "#### Overall Interpretation:\n",
    "- Hispanic or Latino Population: This group shows the most substantial correlation with gun purchasing activities, particularly for new firearms, suggesting that gun-related activity may be more prevalent in areas with larger Hispanic or Latino populations.\n",
    "- White Population: The negative correlations for New Handguns and Long Gun Checks suggest that areas with a higher White population may see a lower frequency of these gun-related activities.\n",
    "- Black or African American Population: The moderate positive correlations indicate that gun purchasing activity, particularly for new firearms, is somewhat more frequent in areas with higher percentages of Black or African American individuals.\n",
    "\n",
    "#### Recommendations for Further Research:\n",
    "- Causal Factors: Further research could explore the underlying causal factors driving these correlations. Understanding why certain racial demographics are more closely associated with gun checks could provide deeper insights into social, economic, or cultural factors influencing gun ownership and purchases.\n",
    "- Broader Data Analysis: Including additional variables such as income levels, education, or urban vs. rural settings could provide a more comprehensive understanding of the factors that correlate with gun checks.\n",
    "- Longitudinal Studies: Examining trends over time could help identify whether these correlations are consistent or if they change based on socio-political events, economic conditions, or changes in legislation.\n",
    "\n",
    "#### Conclusion:\n",
    "The analysis reveals distinct patterns in the relationship between racial demographics and gun-related checks. While the Hispanic or Latino population shows a strong positive correlation with increased gun checks, the White population tends to show a decrease in these activities, and the Black or African American population exhibits moderate increases. Understanding these patterns is essential for policymakers, community leaders, and researchers seeking to address issues related to gun ownership and regulation. Further research is recommended to explore the deeper reasons behind these correlations and to guide informed decision-making.\n",
    "\n",
    "### Research Question 2:\n",
    "\n",
    "#### Key Findings:\n",
    "Consistency Across Seasons:\n",
    "> Gun purchase checks are generally consistent throughout the year, with no significant seasonal spikes or declines observed across most states. This suggests that seasonality does not have a strong influence on gun purchasing behavior.\n",
    "\n",
    "High-Activity States:\n",
    "> Kentucky stands out with notably higher levels of gun purchase checks in every season, indicating a consistently high demand for gun purchases throughout the year. Other states, such as Illinois, California, and Pennsylvania, also exhibit relatively high levels of activity, although not as pronounced as in Kentucky.\n",
    "\n",
    "Lack of Pronounced Seasonal Peaks:\n",
    "> The absence of sharp peaks in gun purchase activity across seasons implies that factors other than seasonality, such as state-specific legislation, cultural influences, or economic conditions, may play a more significant role in driving gun purchase checks.\n",
    "\n",
    "State Variability:\n",
    "> There is considerable variation in gun purchasing behavior across states. While some states have consistently high levels of activity, others, like Hawaii and Rhode Island, show much lower levels across all seasons. This variability could be attributed to differences in state laws, population size, or local gun ownership culture.\n",
    "\n",
    "#### Recommendations for Further Research:\n",
    "- Focus on High-Activity States: Further investigation into why states like Kentucky have such high levels of gun purchase checks year-round could provide valuable insights.\n",
    "- Explore Non-Seasonal Factors: Since seasonality is not a strong driver, research could explore other factors such as state laws, economic conditions, and cultural attitudes towards gun ownership.\n",
    "- Longitudinal Analysis: Expanding the analysis to include multiple years could help determine whether these patterns are consistent over time or if they were specific to 2016.\n",
    "\n",
    "#### Conclusion:\n",
    "The analysis indicates that gun purchase checks are relatively stable throughout the year, with no strong seasonal trends. States like Kentucky exhibit consistently high levels of activity, warranting further investigation into the factors driving this demand. The variability in gun purchase checks across states suggests that local factors may significantly influence gun purchasing behavior.\n",
    "\n",
    "\n",
    "### Limitation\n",
    "> It's important to note that this analysis has certain limitations. Specifically, the focus is solely on permit checks and checks related to new gun purchases. This means that other types of checks, such as prepawned checks, rental checks, and private sale checks, were not included in the analysis. Without considering these additional data points, the exploration of the relationship between race and gun check frequency is not fully comprehensive. Therefore, the conclusions drawn may not reflect the entire spectrum of gun-related activities, and further analysis incorporating these additional types of checks would be necessary to provide a more complete understanding of the relationship. All findings are tenative due to this."
   ]
  },
  {
   "cell_type": "code",
   "execution_count": 42,
   "metadata": {},
   "outputs": [
    {
     "data": {
      "text/plain": [
       "0"
      ]
     },
     "execution_count": 42,
     "metadata": {},
     "output_type": "execute_result"
    }
   ],
   "source": [
    "from subprocess import call\n",
    "call(['python', '-m', 'nbconvert', 'Investigate_a_Dataset.ipynb'])"
   ]
  },
  {
   "cell_type": "code",
   "execution_count": null,
   "metadata": {},
   "outputs": [],
   "source": []
  }
 ],
 "metadata": {
  "kernelspec": {
   "display_name": "Python 3",
   "language": "python",
   "name": "python3"
  },
  "language_info": {
   "codemirror_mode": {
    "name": "ipython",
    "version": 3
   },
   "file_extension": ".py",
   "mimetype": "text/x-python",
   "name": "python",
   "nbconvert_exporter": "python",
   "pygments_lexer": "ipython3",
   "version": "3.6.3"
  }
 },
 "nbformat": 4,
 "nbformat_minor": 2
}
